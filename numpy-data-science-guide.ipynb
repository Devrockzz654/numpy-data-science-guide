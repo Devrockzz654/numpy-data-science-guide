{
 "cells": [
  {
   "cell_type": "markdown",
   "id": "23472d51-3851-4f4a-a1f0-8d2aee27faef",
   "metadata": {},
   "source": [
    "<h1 style=\"text-align: center;\">Exploring NumPy: A Comprehensive Guide to Data Manipulation, Aggregation, and Analysis in Data Science</h1>"
   ]
  },
  {
   "cell_type": "markdown",
   "id": "b53f4eeb-94c1-421f-947d-a452fc83c0a9",
   "metadata": {},
   "source": [
    "# 1. Getting Familiar with Numpy"
   ]
  },
  {
   "cell_type": "markdown",
   "id": "27ee7021-4831-458e-9cb9-0838ea9c49b0",
   "metadata": {},
   "source": [
    "### What is NumPy?\n",
    "NumPy (Numerical Python) is the foundational package for numerical computation in Python. It provides support for arrays, matrices, and a large library of mathematical functions to operate on these arrays."
   ]
  },
  {
   "cell_type": "markdown",
   "id": "72246042-2c7f-47dd-8a75-b78aa85693ec",
   "metadata": {},
   "source": [
    "## Core Functionalities\n",
    "\n",
    "- **Creating Arrays:**\n",
    "\n",
    "  Arrays are the central data structure in NumPy. They are similar to Python lists but more efficient for numerical operations."
   ]
  },
  {
   "cell_type": "code",
   "execution_count": 1,
   "id": "4562444f-2b51-41f6-8688-00fc06ed9f21",
   "metadata": {},
   "outputs": [],
   "source": [
    "import numpy as np"
   ]
  },
  {
   "cell_type": "code",
   "execution_count": 2,
   "id": "37bf79e9-0c9a-4691-9597-b4717dd1bb34",
   "metadata": {},
   "outputs": [],
   "source": [
    "# Creating a 1D array (similar to a Python list but more powerful)\n",
    "array_1d = np.array([1, 2, 3, 4, 5])"
   ]
  },
  {
   "cell_type": "code",
   "execution_count": 3,
   "id": "a9adfc7d-467f-445b-88e7-90f7c7595d32",
   "metadata": {},
   "outputs": [],
   "source": [
    "# Creating a 2D array (similar to a matrix)\n",
    "array_2d = np.array([[1, 2, 3], [4, 5, 6]])"
   ]
  },
  {
   "cell_type": "code",
   "execution_count": 4,
   "id": "0aac8359-281c-45e1-aedd-a952a3c145d9",
   "metadata": {},
   "outputs": [],
   "source": [
    "# Creating an array with a range of values (equivalent to Python's range() but returns an array)\n",
    "array_range = np.arange(0, 10, 2)"
   ]
  },
  {
   "cell_type": "code",
   "execution_count": 5,
   "id": "4e16af7e-a906-4435-bc92-ca5ba7d7771e",
   "metadata": {},
   "outputs": [],
   "source": [
    "# Creating an array of zeros (useful for initialization of matrices)\n",
    "array_zeros = np.zeros((3, 3))"
   ]
  },
  {
   "cell_type": "code",
   "execution_count": 6,
   "id": "b512a9ca-4e3a-480b-b6dd-69c22c4a0ddf",
   "metadata": {},
   "outputs": [],
   "source": [
    "# Creating an array of ones (commonly used in algorithm initialization)\n",
    "array_ones = np.ones((2, 4))"
   ]
  },
  {
   "cell_type": "markdown",
   "id": "f9ba50b5-28d7-4f68-aace-35a7e43e3651",
   "metadata": {},
   "source": [
    "- **Basic Operations:**\n",
    "\n",
    "  NumPy allows you to perform element-wise operations on arrays without the need for explicit loops."
   ]
  },
  {
   "cell_type": "code",
   "execution_count": 7,
   "id": "00a0d824-caa2-4fb3-83ff-4f32fa60072d",
   "metadata": {},
   "outputs": [],
   "source": [
    "# Element-wise addition (adds 10 to each element)\n",
    "sum_array = array_1d + 10"
   ]
  },
  {
   "cell_type": "code",
   "execution_count": 8,
   "id": "1383566b-da67-4be1-bcbe-a261b6d36c4d",
   "metadata": {},
   "outputs": [],
   "source": [
    "# Element-wise multiplication (multiplies each element by 2)\n",
    "multiplied_array = array_1d * 2"
   ]
  },
  {
   "cell_type": "code",
   "execution_count": 9,
   "id": "69a69910-0a37-4b91-916b-e7bf1beecdda",
   "metadata": {},
   "outputs": [],
   "source": [
    "# Dot product (a fundamental operation in linear algebra)\n",
    "dot_product = np.dot(array_2d, array_2d.T)"
   ]
  },
  {
   "cell_type": "markdown",
   "id": "85bb2f39-8e9a-4bc4-915d-1dbaba850be0",
   "metadata": {},
   "source": [
    "- **Understanding Array Properties:**\n",
    " \n",
    "  NumPy arrays have several attributes that help you understand their structure and data type."
   ]
  },
  {
   "cell_type": "code",
   "execution_count": 10,
   "id": "f3142ad1-b5c4-4482-94af-dd5391b3addb",
   "metadata": {},
   "outputs": [],
   "source": [
    "shape = array_2d.shape  # Returns the shape (number of rows, columns)"
   ]
  },
  {
   "cell_type": "code",
   "execution_count": 11,
   "id": "f5d87822-20b9-4c04-a94d-0ee14174860f",
   "metadata": {},
   "outputs": [],
   "source": [
    "size = array_2d.size    # Total number of elements in the array"
   ]
  },
  {
   "cell_type": "code",
   "execution_count": 12,
   "id": "74cc1e99-c84d-4797-ba95-9c37c7f73414",
   "metadata": {},
   "outputs": [],
   "source": [
    "dtype = array_2d.dtype  # Data type of the elements (e.g., int32, float64)"
   ]
  },
  {
   "cell_type": "markdown",
   "id": "ccf6ff0e-47c5-4520-9131-78d4d7cfb711",
   "metadata": {},
   "source": [
    "# 2. Data Manipulation"
   ]
  },
  {
   "cell_type": "markdown",
   "id": "4ca01614-42b7-4d0b-bde8-d5faff395e2e",
   "metadata": {},
   "source": [
    "Data manipulation is crucial in data science, and NumPy provides powerful tools for it. Here we demonstrate creating, indexing, slicing, reshaping arrays, and applying mathematical operations."
   ]
  },
  {
   "cell_type": "markdown",
   "id": "7e26b0ba-851f-4d89-9a85-0c4e65b71565",
   "metadata": {},
   "source": [
    "- **Array Creation:**"
   ]
  },
  {
   "cell_type": "code",
   "execution_count": 13,
   "id": "e353920a-09cb-46d0-9fd3-4bc7793e6e6a",
   "metadata": {},
   "outputs": [],
   "source": [
    "data = np.array([[10, 20, 30], [40, 50, 60], [70, 80, 90]])"
   ]
  },
  {
   "cell_type": "markdown",
   "id": "8f505ca7-f753-417c-ae95-143bb8169315",
   "metadata": {},
   "source": [
    "Here, data is a 2D array with 3 rows and 3 columns."
   ]
  },
  {
   "cell_type": "markdown",
   "id": "c3f51b84-6323-453a-bbea-40950b43740b",
   "metadata": {},
   "source": [
    "- **Indexing:**\n",
    "\n",
    "   Access elements within an array using indices."
   ]
  },
  {
   "cell_type": "code",
   "execution_count": 14,
   "id": "8ca5af18-5ec3-40eb-aeeb-663c7389a8c3",
   "metadata": {},
   "outputs": [],
   "source": [
    "element = data[1, 2]  # Access element at row 2, column 3 (60)"
   ]
  },
  {
   "cell_type": "markdown",
   "id": "e510b424-f77e-4cfc-b40d-27cddf241d35",
   "metadata": {},
   "source": [
    "- **Slicing:**\n",
    "\n",
    "  Extract a sub-array using slicing. This is particularly useful when working with large datasets."
   ]
  },
  {
   "cell_type": "code",
   "execution_count": 15,
   "id": "2d0617f9-0394-42ae-a5d1-10f8ccd9ef2e",
   "metadata": {},
   "outputs": [],
   "source": [
    "slice_data = data[:2, 1:]  # Get the first 2 rows and last 2 columns"
   ]
  },
  {
   "cell_type": "markdown",
   "id": "5c3cfb10-9c02-46db-a7e9-9faecdfc3c6c",
   "metadata": {},
   "source": [
    "- **Reshaping:**\n",
    "    \n",
    "  Reshaping is often used in data preprocessing, where you need to change the shape of an array without altering its data.-"
   ]
  },
  {
   "cell_type": "code",
   "execution_count": 16,
   "id": "968536e5-9957-4170-b5b9-45191bf4ae6b",
   "metadata": {},
   "outputs": [],
   "source": [
    "reshaped_data = data.reshape(1, 9)  # Reshape to 1 row and 9 columns"
   ]
  },
  {
   "cell_type": "markdown",
   "id": "c9a4927d-0603-4526-a89d-08f16bbcb46b",
   "metadata": {},
   "source": [
    "- **Mathematical Operations:**\n",
    "\n",
    "  NumPy provides a variety of functions for statistical and mathematical operations."
   ]
  },
  {
   "cell_type": "code",
   "execution_count": 17,
   "id": "53a5387f-b9f3-4380-b209-5ef35a812972",
   "metadata": {},
   "outputs": [],
   "source": [
    "mean_value = np.mean(data)  # Calculate the mean of the array"
   ]
  },
  {
   "cell_type": "code",
   "execution_count": 18,
   "id": "52e7d61c-2a2d-48d2-ae4e-256395c2e4c2",
   "metadata": {},
   "outputs": [],
   "source": [
    "sum_values = np.sum(data)   # Calculate the sum of all elements"
   ]
  },
  {
   "cell_type": "markdown",
   "id": "1243c3df-90f3-4692-8801-2f441458d200",
   "metadata": {},
   "source": [
    "# 3. Data Aggregation\n",
    "Aggregation is a key step in data analysis, where you summarize your data. NumPy makes it easy to compute statistics and perform operations on grouped data.\n"
   ]
  },
  {
   "cell_type": "markdown",
   "id": "0d9cbf85-cdb6-4f24-936b-24f129e28cdc",
   "metadata": {},
   "source": [
    "- **Summary Statistics:**"
   ]
  },
  {
   "cell_type": "code",
   "execution_count": 19,
   "id": "cf53d564-1bfe-4757-8160-e00df65d36df",
   "metadata": {},
   "outputs": [],
   "source": [
    "mean = np.mean(data)         # Calculate the mean"
   ]
  },
  {
   "cell_type": "code",
   "execution_count": 20,
   "id": "08b95827-81a3-4dc1-a098-84e1457b45be",
   "metadata": {},
   "outputs": [],
   "source": [
    "median = np.median(data)     # Calculate the median"
   ]
  },
  {
   "cell_type": "code",
   "execution_count": 21,
   "id": "12bc4318-f064-4efe-a777-59f533c7548e",
   "metadata": {},
   "outputs": [],
   "source": [
    "std_dev = np.std(data)       # Calculate the standard deviation"
   ]
  },
  {
   "cell_type": "code",
   "execution_count": 22,
   "id": "d277b53c-c197-4842-b1ad-c0d86ea2696e",
   "metadata": {},
   "outputs": [],
   "source": [
    "total_sum = np.sum(data)     # Sum of all elements"
   ]
  },
  {
   "cell_type": "markdown",
   "id": "5b81cfff-f2c5-49a9-9b3d-9d5ff8b48f7c",
   "metadata": {},
   "source": [
    "- **Grouping and Aggregations:**\n",
    "\n",
    "  NumPy’s reduceat function allows for grouped operations, useful when dealing with structured data."
   ]
  },
  {
   "cell_type": "code",
   "execution_count": 23,
   "id": "416e5c4b-651f-4697-ab16-178a6cc35414",
   "metadata": {},
   "outputs": [],
   "source": [
    "# Assuming data is grouped in rows, sum the first two rows together\n",
    "grouped_sum = np.add.reduceat(data, [0, 1], axis=0)"
   ]
  },
  {
   "cell_type": "markdown",
   "id": "fae54b51-ef3a-40b3-838a-93434b8a548f",
   "metadata": {},
   "source": [
    "# 4. Data Analysis"
   ]
  },
  {
   "cell_type": "markdown",
   "id": "d7248713-d529-43ee-8b2d-cea3f2bd04ad",
   "metadata": {},
   "source": [
    "In data science, NumPy is frequently used for various analytical tasks like finding correlations, identifying outliers, and calculating percentiles.\n",
    "\n",
    "- **Correlation:** \n",
    "\n",
    "  Calculate the correlation matrix to understand the relationship between different variables."
   ]
  },
  {
   "cell_type": "code",
   "execution_count": 24,
   "id": "e7ae2396-a0e5-4f93-b652-0b6d0f707599",
   "metadata": {},
   "outputs": [],
   "source": [
    "correlation_matrix = np.corrcoef(data)"
   ]
  },
  {
   "cell_type": "markdown",
   "id": "cf30f691-858d-4e48-9724-23eeeed36b13",
   "metadata": {},
   "source": [
    "- **Identifying Outliers:**\n",
    "\n",
    "  Outliers can significantly affect the results of your analysis. NumPy allows you to easily identify and handle them."
   ]
  },
  {
   "cell_type": "code",
   "execution_count": 26,
   "id": "8e8e5680-93e0-4914-8fe7-850c5e8eb2d3",
   "metadata": {},
   "outputs": [],
   "source": [
    "# Identifying outliers that are more than 2 standard deviations away from the mean\n",
    "outliers = data[np.abs(data - mean) > 2 * std_dev]"
   ]
  },
  {
   "cell_type": "markdown",
   "id": "0c7d8e22-5255-4f27-8aec-53d2aaf056a9",
   "metadata": {},
   "source": [
    "- **Calculating Percentiles:**\n",
    "\n",
    "  Percentiles are a common measure in statistics to understand the distribution of your data."
   ]
  },
  {
   "cell_type": "code",
   "execution_count": 27,
   "id": "cd96b1d6-bd61-43be-b442-43d05181ab62",
   "metadata": {},
   "outputs": [],
   "source": [
    "percentile_50 = np.percentile(data, 50)  # 50th percentile (median)"
   ]
  },
  {
   "cell_type": "code",
   "execution_count": 28,
   "id": "19074425-9a84-499d-b015-94df95e36be7",
   "metadata": {},
   "outputs": [],
   "source": [
    "percentile_90 = np.percentile(data, 90)  # 90th percentile"
   ]
  },
  {
   "cell_type": "markdown",
   "id": "a46cf61d-2fc4-4f5f-8ec5-797d1b2186eb",
   "metadata": {},
   "source": [
    "# 5. Application in Data Science\n",
    "\n",
    "## Advantages of Using NumPy:\n",
    "\n",
    "- **Efficiency:** NumPy arrays are highly efficient for numerical computations. They consume less memory and allow for faster operations compared to Python lists, especially for large datasets.\n",
    "- **Broadcasting:** NumPy’s broadcasting feature allows operations on arrays of different shapes, enabling you to perform complex operations without the need for loops or manual adjustments.\n",
    "- **Integration:** NumPy integrates seamlessly with other scientific libraries in Python, such as Pandas (for data manipulation), Matplotlib (for plotting), and SciPy (for advanced scientific computations).\n",
    "\n",
    "## Real-World Examples:\n",
    "\n",
    "- **Machine Learning:**\n",
    " \n",
    "  In machine learning, data is often represented as NumPy arrays. During preprocessing, NumPy is used for tasks like normalization, feature scaling, \n",
    "  and matrix operations."
   ]
  },
  {
   "cell_type": "code",
   "execution_count": 29,
   "id": "74fd5376-70b7-4dbb-a4f2-1f78ffe478ed",
   "metadata": {},
   "outputs": [],
   "source": [
    "# Example: Normalizing a dataset\n",
    "data_normalized = (data - np.mean(data, axis=0)) / np.std(data, axis=0)"
   ]
  },
  {
   "cell_type": "markdown",
   "id": "890662c7-6963-49b9-934c-202d6ea87a75",
   "metadata": {},
   "source": [
    "- **Financial Analysis:**\n",
    "\n",
    "  NumPy is widely used in financial analysis for tasks like portfolio optimization, risk analysis, and time series forecasting."
   ]
  },
  {
   "cell_type": "code",
   "execution_count": 30,
   "id": "77cd8eab-822f-473a-a9a3-0d1bb2828a71",
   "metadata": {},
   "outputs": [],
   "source": [
    "# Example: Calculating the returns on a stock portfolio\n",
    "prices = np.array([100, 105, 102, 110])\n",
    "returns = np.diff(prices) / prices[:-1]"
   ]
  },
  {
   "cell_type": "markdown",
   "id": "3c07f908-e34a-496d-b4f2-c81e3fc65302",
   "metadata": {},
   "source": [
    "# Conclusion\n",
    "\n",
    "NumPy is an essential tool for data science professionals due to its efficiency in handling numerical data, flexibility in performing various operations, and integration with other data science libraries. Whether you are working on machine learning models, financial forecasts, or scientific research, NumPy provides the foundational tools necessary for high-performance computing."
   ]
  }
 ],
 "metadata": {
  "kernelspec": {
   "display_name": "Python (hello)",
   "language": "python",
   "name": "hello"
  },
  "language_info": {
   "codemirror_mode": {
    "name": "ipython",
    "version": 3
   },
   "file_extension": ".py",
   "mimetype": "text/x-python",
   "name": "python",
   "nbconvert_exporter": "python",
   "pygments_lexer": "ipython3",
   "version": "3.12.3"
  }
 },
 "nbformat": 4,
 "nbformat_minor": 5
}
